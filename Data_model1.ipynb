{
 "cells": [
  {
   "cell_type": "code",
   "execution_count": 34,
   "id": "bda7040d",
   "metadata": {},
   "outputs": [],
   "source": [
    "import psycopg2\n",
    "import pandas as pd"
   ]
  },
  {
   "cell_type": "code",
   "execution_count": 57,
   "id": "8f112c19",
   "metadata": {},
   "outputs": [
    {
     "data": {
      "text/html": [
       "<div>\n",
       "<style scoped>\n",
       "    .dataframe tbody tr th:only-of-type {\n",
       "        vertical-align: middle;\n",
       "    }\n",
       "\n",
       "    .dataframe tbody tr th {\n",
       "        vertical-align: top;\n",
       "    }\n",
       "\n",
       "    .dataframe thead th {\n",
       "        text-align: right;\n",
       "    }\n",
       "</style>\n",
       "<table border=\"1\" class=\"dataframe\">\n",
       "  <thead>\n",
       "    <tr style=\"text-align: right;\">\n",
       "      <th></th>\n",
       "      <th>Emp_id</th>\n",
       "      <th>Name</th>\n",
       "      <th>Age</th>\n",
       "      <th>Gender</th>\n",
       "      <th>Department</th>\n",
       "    </tr>\n",
       "  </thead>\n",
       "  <tbody>\n",
       "    <tr>\n",
       "      <th>0</th>\n",
       "      <td>1</td>\n",
       "      <td>Amit</td>\n",
       "      <td>21</td>\n",
       "      <td>M</td>\n",
       "      <td>D</td>\n",
       "    </tr>\n",
       "    <tr>\n",
       "      <th>1</th>\n",
       "      <td>2</td>\n",
       "      <td>Pooja</td>\n",
       "      <td>20</td>\n",
       "      <td>F</td>\n",
       "      <td>A</td>\n",
       "    </tr>\n",
       "    <tr>\n",
       "      <th>2</th>\n",
       "      <td>3</td>\n",
       "      <td>Kanika</td>\n",
       "      <td>24</td>\n",
       "      <td>F</td>\n",
       "      <td>D</td>\n",
       "    </tr>\n",
       "    <tr>\n",
       "      <th>3</th>\n",
       "      <td>4</td>\n",
       "      <td>Rohit</td>\n",
       "      <td>23</td>\n",
       "      <td>M</td>\n",
       "      <td>S</td>\n",
       "    </tr>\n",
       "    <tr>\n",
       "      <th>4</th>\n",
       "      <td>5</td>\n",
       "      <td>Naman</td>\n",
       "      <td>22</td>\n",
       "      <td>M</td>\n",
       "      <td>M</td>\n",
       "    </tr>\n",
       "    <tr>\n",
       "      <th>5</th>\n",
       "      <td>6</td>\n",
       "      <td>Basak</td>\n",
       "      <td>20</td>\n",
       "      <td>M</td>\n",
       "      <td>M</td>\n",
       "    </tr>\n",
       "    <tr>\n",
       "      <th>6</th>\n",
       "      <td>7</td>\n",
       "      <td>Nita</td>\n",
       "      <td>25</td>\n",
       "      <td>F</td>\n",
       "      <td>A</td>\n",
       "    </tr>\n",
       "  </tbody>\n",
       "</table>\n",
       "</div>"
      ],
      "text/plain": [
       "   Emp_id    Name  Age Gender Department\n",
       "0       1    Amit   21      M          D\n",
       "1       2   Pooja   20      F          A\n",
       "2       3  Kanika   24      F          D\n",
       "3       4   Rohit   23      M          S\n",
       "4       5   Naman   22      M          M\n",
       "5       6   Basak   20      M          M\n",
       "6       7    Nita   25      F          A"
      ]
     },
     "execution_count": 57,
     "metadata": {},
     "output_type": "execute_result"
    }
   ],
   "source": [
    "employee_df = pd.read_csv('Employee.csv')\n",
    "employee_df"
   ]
  },
  {
   "cell_type": "code",
   "execution_count": 67,
   "id": "4e4281f5",
   "metadata": {},
   "outputs": [
    {
     "data": {
      "text/html": [
       "<div>\n",
       "<style scoped>\n",
       "    .dataframe tbody tr th:only-of-type {\n",
       "        vertical-align: middle;\n",
       "    }\n",
       "\n",
       "    .dataframe tbody tr th {\n",
       "        vertical-align: top;\n",
       "    }\n",
       "\n",
       "    .dataframe thead th {\n",
       "        text-align: right;\n",
       "    }\n",
       "</style>\n",
       "<table border=\"1\" class=\"dataframe\">\n",
       "  <thead>\n",
       "    <tr style=\"text-align: right;\">\n",
       "      <th></th>\n",
       "      <th>Department</th>\n",
       "      <th>Salary</th>\n",
       "      <th>Lead</th>\n",
       "    </tr>\n",
       "  </thead>\n",
       "  <tbody>\n",
       "    <tr>\n",
       "      <th>0</th>\n",
       "      <td>D</td>\n",
       "      <td>78000</td>\n",
       "      <td>Kiran</td>\n",
       "    </tr>\n",
       "    <tr>\n",
       "      <th>1</th>\n",
       "      <td>A</td>\n",
       "      <td>56000</td>\n",
       "      <td>Madan</td>\n",
       "    </tr>\n",
       "    <tr>\n",
       "      <th>2</th>\n",
       "      <td>D</td>\n",
       "      <td>78000</td>\n",
       "      <td>Kiran</td>\n",
       "    </tr>\n",
       "    <tr>\n",
       "      <th>3</th>\n",
       "      <td>S</td>\n",
       "      <td>46000</td>\n",
       "      <td>Nitu</td>\n",
       "    </tr>\n",
       "    <tr>\n",
       "      <th>4</th>\n",
       "      <td>M</td>\n",
       "      <td>45000</td>\n",
       "      <td>Nilu</td>\n",
       "    </tr>\n",
       "    <tr>\n",
       "      <th>5</th>\n",
       "      <td>M</td>\n",
       "      <td>45000</td>\n",
       "      <td>Nilu</td>\n",
       "    </tr>\n",
       "    <tr>\n",
       "      <th>6</th>\n",
       "      <td>A</td>\n",
       "      <td>56000</td>\n",
       "      <td>Madan</td>\n",
       "    </tr>\n",
       "  </tbody>\n",
       "</table>\n",
       "</div>"
      ],
      "text/plain": [
       "  Department  Salary   Lead\n",
       "0          D   78000  Kiran\n",
       "1          A   56000  Madan\n",
       "2          D   78000  Kiran\n",
       "3          S   46000   Nitu\n",
       "4          M   45000   Nilu\n",
       "5          M   45000   Nilu\n",
       "6          A   56000  Madan"
      ]
     },
     "execution_count": 67,
     "metadata": {},
     "output_type": "execute_result"
    }
   ],
   "source": [
    "department_df = pd.read_csv('department.csv')\n",
    "department_df"
   ]
  },
  {
   "cell_type": "code",
   "execution_count": 52,
   "id": "b65792d7",
   "metadata": {},
   "outputs": [],
   "source": [
    "def create_database():\n",
    "    conn = psycopg2.connect(\"host = 127.0.0.1 dbname= postgres user = postgres password = jojo\")\n",
    "    conn.set_session(autocommit = True)\n",
    "    cur = conn.cursor()\n",
    "    \n",
    "    #create sparkify database with utfb encoding\n",
    "    cur.execute(\"drop database if exists accounts1\")\n",
    "    cur.execute(\"create database accounts1\")\n",
    "    \n",
    "    #close connection to default db\n",
    "    conn.close()\n",
    "    \n",
    "    #coonnect to sparkify db\n",
    "    conn = psycopg2.connect(\"host = 127.0.0.1 dbname = accounts user = postgres password = jojo\")\n",
    "    cur = conn.cursor()\n",
    "    \n",
    "    return cur, conn"
   ]
  },
  {
   "cell_type": "code",
   "execution_count": 53,
   "id": "4de41acb",
   "metadata": {},
   "outputs": [],
   "source": [
    "cur, conn = create_database()"
   ]
  },
  {
   "cell_type": "code",
   "execution_count": 54,
   "id": "1b01bf37",
   "metadata": {},
   "outputs": [],
   "source": [
    "employee_table_create = (\"\"\"create table if not exists employee (\n",
    "Emp_id int Primary Key,\n",
    "Name varchar,\n",
    "Age int,\n",
    "Gender varchar,\n",
    "Department varchar)\"\"\")"
   ]
  },
  {
   "cell_type": "code",
   "execution_count": 55,
   "id": "e25afa2d",
   "metadata": {},
   "outputs": [],
   "source": [
    "cur.execute(employee_table_create)\n",
    "conn.commit()"
   ]
  },
  {
   "cell_type": "code",
   "execution_count": 56,
   "id": "9e55dfff",
   "metadata": {},
   "outputs": [],
   "source": [
    "department_table_create = (\"\"\"create table if not exists department(\n",
    "Department varchar,\n",
    "Salary int,\n",
    "Lead varchar)\"\"\")\n",
    "cur.execute(department_table_create)\n",
    "conn.commit()"
   ]
  },
  {
   "cell_type": "code",
   "execution_count": 59,
   "id": "f12fb5ef",
   "metadata": {},
   "outputs": [],
   "source": [
    "employee_table_insert = (\"\"\"insert into employee(\n",
    "Emp_id,\n",
    "Name,\n",
    "Age,\n",
    "Gender,\n",
    "Department)\n",
    "values (%s,%s,%s,%s,%s)\n",
    "\"\"\")"
   ]
  },
  {
   "cell_type": "code",
   "execution_count": 60,
   "id": "2c204b88",
   "metadata": {},
   "outputs": [],
   "source": [
    "for i, row in employee_df.iterrows():\n",
    "    cur.execute(employee_table_insert,list(row))\n"
   ]
  },
  {
   "cell_type": "code",
   "execution_count": 61,
   "id": "c4571964",
   "metadata": {},
   "outputs": [],
   "source": [
    "conn.commit()    "
   ]
  },
  {
   "cell_type": "code",
   "execution_count": 72,
   "id": "15e70d7c",
   "metadata": {},
   "outputs": [],
   "source": [
    "department_table_insert = (\"\"\"insert into department(\n",
    "Department,\n",
    "Salary,\n",
    "Lead)\n",
    "values (%s,%s,%s)\n",
    "\"\"\")"
   ]
  },
  {
   "cell_type": "code",
   "execution_count": 73,
   "id": "4c2e8d7a",
   "metadata": {},
   "outputs": [],
   "source": [
    "for i, row in department_df.iterrows():\n",
    "    cur.execute(department_table_insert,list(row))\n"
   ]
  },
  {
   "cell_type": "code",
   "execution_count": 74,
   "id": "43724dac",
   "metadata": {},
   "outputs": [],
   "source": [
    "conn.commit()"
   ]
  }
 ],
 "metadata": {
  "kernelspec": {
   "display_name": "Python 3 (ipykernel)",
   "language": "python",
   "name": "python3"
  },
  "language_info": {
   "codemirror_mode": {
    "name": "ipython",
    "version": 3
   },
   "file_extension": ".py",
   "mimetype": "text/x-python",
   "name": "python",
   "nbconvert_exporter": "python",
   "pygments_lexer": "ipython3",
   "version": "3.9.12"
  }
 },
 "nbformat": 4,
 "nbformat_minor": 5
}
