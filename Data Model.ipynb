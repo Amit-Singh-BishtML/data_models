{
 "cells": [
  {
   "cell_type": "code",
   "execution_count": 1,
   "id": "27d5a1fd",
   "metadata": {},
   "outputs": [],
   "source": [
    "## Creating a Table with PostgreSql"
   ]
  },
  {
   "cell_type": "code",
   "execution_count": 2,
   "id": "7319ed06",
   "metadata": {
    "scrolled": true
   },
   "outputs": [
    {
     "name": "stdout",
     "output_type": "stream",
     "text": [
      "Requirement already satisfied: psycopg2 in c:\\users\\amit\\anaconda3\\lib\\site-packages (2.9.5)\n"
     ]
    }
   ],
   "source": [
    "!pip install psycopg2"
   ]
  },
  {
   "cell_type": "markdown",
   "id": "294cee32",
   "metadata": {},
   "source": [
    "## Install library"
   ]
  },
  {
   "cell_type": "code",
   "execution_count": 3,
   "id": "54e6ae1f",
   "metadata": {},
   "outputs": [],
   "source": [
    "import psycopg2"
   ]
  },
  {
   "cell_type": "markdown",
   "id": "8d10d5ac",
   "metadata": {},
   "source": [
    "## Creating a connection to the database"
   ]
  },
  {
   "cell_type": "code",
   "execution_count": 4,
   "id": "6d21e19d",
   "metadata": {},
   "outputs": [],
   "source": [
    "try:\n",
    "    conn = psycopg2.connect(\"host = 127.0.0.1 dbname =postgres user =postgres password =jojo\")\n",
    "except psycopg2.Error as e:\n",
    "    print (\"Error :could not make connection to Postgres db\")\n",
    "    print(e)"
   ]
  },
  {
   "cell_type": "markdown",
   "id": "99bb853f",
   "metadata": {},
   "source": [
    "## Use the connection to get a cursor that can be used to execute queries"
   ]
  },
  {
   "cell_type": "code",
   "execution_count": 5,
   "id": "3ac69af2",
   "metadata": {},
   "outputs": [],
   "source": [
    "try:\n",
    "    cur = conn.cursor()\n",
    "except psycopg2.Error as e:\n",
    "    print(\"Error : Could not get cursor to the db\")\n",
    "    print(e)"
   ]
  },
  {
   "cell_type": "markdown",
   "id": "5ba0f084",
   "metadata": {},
   "source": [
    "## Set automatic commit to be true so as to avoid calling conn.commit() after each command"
   ]
  },
  {
   "cell_type": "code",
   "execution_count": 6,
   "id": "c4021d97",
   "metadata": {},
   "outputs": [],
   "source": [
    "conn.set_session(autocommit = True)"
   ]
  },
  {
   "cell_type": "markdown",
   "id": "fda8c623",
   "metadata": {},
   "source": [
    "## Create a db to do work "
   ]
  },
  {
   "cell_type": "code",
   "execution_count": 7,
   "id": "8a9cb763",
   "metadata": {},
   "outputs": [
    {
     "name": "stdout",
     "output_type": "stream",
     "text": [
      "database \"myfirstdb\" already exists\n",
      "\n"
     ]
    }
   ],
   "source": [
    "try:\n",
    "    cur.execute(\"create database myfirstdb\")\n",
    "except psycopg2.Error as e:\n",
    "    print(e)"
   ]
  },
  {
   "cell_type": "markdown",
   "id": "5c42adb6",
   "metadata": {},
   "source": [
    "## Add the db name in the connect statememt,close the default db"
   ]
  },
  {
   "cell_type": "code",
   "execution_count": 8,
   "id": "10aacc65",
   "metadata": {},
   "outputs": [],
   "source": [
    "try:\n",
    "    conn.close()\n",
    "except psycopg2.Error as e:\n",
    "    print(e)\n",
    "    \n",
    "try: \n",
    "    conn = psycopg2.connect(\"host = 127.0.0.1 dbname=myfirstdb user = postgres password = jojo\")\n",
    "except psycopg2.Error as e:\n",
    "    print(\"Error : could not make connection to the postgres db\")\n",
    "    print(e)\n",
    "    \n",
    "try:\n",
    "    cur = conn.cursor()\n",
    "except psycopg2.Error as e:\n",
    "    print(\"Error : Could not get cursor to the db\")\n",
    "    print(e) \n",
    "    \n",
    "conn.set_session(autocommit = True)    "
   ]
  },
  {
   "cell_type": "markdown",
   "id": "94623052",
   "metadata": {},
   "source": [
    "## Create table for students with following col\n",
    "student_id\n",
    "name\n",
    "age\n",
    "gender\n",
    "subject\n",
    "marks"
   ]
  },
  {
   "cell_type": "code",
   "execution_count": 9,
   "id": "b2553a68",
   "metadata": {},
   "outputs": [],
   "source": [
    "try:\n",
    "    cur.execute(\"Create table if not exists students (student_id int, name varchar, age int, gender varchar , subject varchar, marks int);\")\n",
    "except psycopg2.Error as e :\n",
    "    print(\"Error :issue creating table\")\n",
    "    print(e)"
   ]
  },
  {
   "cell_type": "code",
   "execution_count": 12,
   "id": "2cd3f19c",
   "metadata": {},
   "outputs": [],
   "source": [
    "try:\n",
    "    cur.execute(\"INSERT INTO students (student_id, name, age, gender, subject, marks) \\\n",
    "                 VALUES (%s, %s, %s, %s, %s, %s)\", \\\n",
    "                 (1,\"Raj\", 23, \"M\", \"Python\", 85))\n",
    "except psycopg2.Error as e:\n",
    "    print(\"Error: Inserting rows\")\n",
    "    print(e)\n",
    "\n",
    "try:\n",
    "    cur.execute(\"INSERT INTO students (student_id, name, age, gender, subject, marks) \\\n",
    "                 VALUES (%s, %s, %s, %s, %s, %s)\", \\\n",
    "                 (2,\"Priya\", 22, \"M\", \"Python\", 88))\n",
    "except psycopg2.Error as e:\n",
    "    print(\"Error: Inserting rows\")\n",
    "    print(e)\n"
   ]
  },
  {
   "cell_type": "markdown",
   "id": "77826857",
   "metadata": {},
   "source": [
    "## Validate the data inserted"
   ]
  },
  {
   "cell_type": "code",
   "execution_count": 13,
   "id": "e4398fd8",
   "metadata": {},
   "outputs": [
    {
     "name": "stdout",
     "output_type": "stream",
     "text": [
      "(1, 'Raj', 23, 'M', 'Python', 85)\n",
      "(2, 'Priya', 22, 'M', 'Python', 88)\n"
     ]
    }
   ],
   "source": [
    "try:\n",
    "    cur.execute(\"select * from students;\")\n",
    "except psycopg2.Error as e:\n",
    "    print(\"Error : select *\")\n",
    "    print(e)\n",
    "\n",
    "row = cur.fetchone()\n",
    "while row:\n",
    "    print(row)\n",
    "    row = cur.fetchone()"
   ]
  },
  {
   "cell_type": "markdown",
   "id": "846bac94",
   "metadata": {},
   "source": [
    "## close the cursor connection"
   ]
  },
  {
   "cell_type": "code",
   "execution_count": 14,
   "id": "6afeecf3",
   "metadata": {},
   "outputs": [],
   "source": [
    "cur.close()\n",
    "conn.close()"
   ]
  }
 ],
 "metadata": {
  "kernelspec": {
   "display_name": "Python 3 (ipykernel)",
   "language": "python",
   "name": "python3"
  },
  "language_info": {
   "codemirror_mode": {
    "name": "ipython",
    "version": 3
   },
   "file_extension": ".py",
   "mimetype": "text/x-python",
   "name": "python",
   "nbconvert_exporter": "python",
   "pygments_lexer": "ipython3",
   "version": "3.9.12"
  }
 },
 "nbformat": 4,
 "nbformat_minor": 5
}
